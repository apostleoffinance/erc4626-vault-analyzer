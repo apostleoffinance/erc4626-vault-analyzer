{
 "cells": [
  {
   "cell_type": "markdown",
   "id": "a5079201",
   "metadata": {},
   "source": [
    "# ERC-4626: Scanning all vaults onchain"
   ]
  },
  {
   "cell_type": "markdown",
   "id": "56b93071",
   "metadata": {},
   "source": []
  }
 ],
 "metadata": {
  "language_info": {
   "name": "python"
  }
 },
 "nbformat": 4,
 "nbformat_minor": 5
}
