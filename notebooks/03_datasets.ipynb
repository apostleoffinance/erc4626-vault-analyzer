{
 "cells": [
  {
   "cell_type": "markdown",
   "id": "85f1ae0e",
   "metadata": {},
   "source": [
    "### 1. Load the price data"
   ]
  },
  {
   "cell_type": "code",
   "execution_count": 1,
   "id": "8c6a90c4",
   "metadata": {},
   "outputs": [
    {
     "name": "stdout",
     "output_type": "stream",
     "text": [
      "Loaded 11439 price records\n",
      "   chain                                     address  block_number  \\\n",
      "0      1  0x48f8d7943899d9b4f34ccb5ba1b92695433226e8      14521099   \n",
      "1      1  0x48f8d7943899d9b4f34ccb5ba1b92695433226e8      14528299   \n",
      "2      1  0x48f8d7943899d9b4f34ccb5ba1b92695433226e8      14535499   \n",
      "3      1  0xb78ebb2248bb72380e690246f9631cf58c07b444      14535499   \n",
      "4      1  0xa066620554af0d50703e5ee3c58c022c6ae5339d      14535499   \n",
      "\n",
      "            timestamp  share_price  total_assets  total_supply  \\\n",
      "0 2022-04-04 18:17:15          1.0      0.300000      0.300000   \n",
      "1 2022-04-05 21:17:13          1.0      0.300000      0.300000   \n",
      "2 2022-04-07 00:16:14          1.0      0.357827      0.357827   \n",
      "3 2022-04-07 00:16:14          1.0      0.050000      0.050000   \n",
      "4 2022-04-07 00:16:14          1.0      0.050000      0.050000   \n",
      "\n",
      "   performance_fee  management_fee errors  \n",
      "0              NaN             NaN         \n",
      "1              NaN             NaN         \n",
      "2              NaN             NaN         \n",
      "3              NaN             NaN         \n",
      "4              NaN             NaN         \n"
     ]
    }
   ],
   "source": [
    "import pandas as pd\n",
    "\n",
    "# Load the price data\n",
    "prices_df = pd.read_parquet('/Users/olaoluwatunmise/stablecoin_vaults/database/vault-prices.parquet')\n",
    "print(f\"Loaded {len(prices_df)} price records\")\n",
    "print(prices_df.head())"
   ]
  },
  {
   "cell_type": "markdown",
   "id": "c1a84ed1",
   "metadata": {},
   "source": [
    "### 2. Load Vault Metadata"
   ]
  },
  {
   "cell_type": "code",
   "execution_count": 2,
   "id": "5258fef6",
   "metadata": {},
   "outputs": [
    {
     "name": "stdout",
     "output_type": "stream",
     "text": [
      "Found 100 vaults\n",
      "     Symbol                       Name  \\\n",
      "0                                        \n",
      "1                                        \n",
      "2                                        \n",
      "3                                        \n",
      "4  (re)TOKE  (Re)cycler Staked Tokemak   \n",
      "\n",
      "                                      Address            Protocol  \\\n",
      "0  0x20ccfcf19c622b4aeb5e476144382b9cff3c63f8           <unknown>   \n",
      "1  0x1e2a7796af48ca59ab1e1aecd30a532cace98eee           <unknown>   \n",
      "2  0xe63c3770823da6f9d9e2fd46bb2e0d0b78f87815           <unknown>   \n",
      "3  0xababb61a9f837aad53ed4320221737fc6e9dc84b           <unknown>   \n",
      "4  0x21db1a295875bdeaf6ce8ed1b1efc04f3c291b89  <unknown ERC-4626>   \n",
      "\n",
      "  Denomination         NAV  Mgmt fee  Perf fee      Shares          First seen  \n",
      "0                 0.000000       NaN       NaN    0.000000 2019-06-11 06:17:19  \n",
      "1                 0.000000       NaN       NaN    0.000000 2019-06-12 10:20:46  \n",
      "2                 0.000000       NaN       NaN    0.000000 2019-06-14 12:38:31  \n",
      "3                 0.000000       NaN       NaN    0.000000 2019-06-14 14:39:52  \n",
      "4         TOKE  113.915474       NaN       NaN  171.933935 2022-03-06 02:09:36  \n"
     ]
    }
   ],
   "source": [
    "# Load vault information\n",
    "vaults_df = pd.read_parquet('/Users/olaoluwatunmise/stablecoin_vaults/database/chain-1-vaults.parquet')\n",
    "print(f\"Found {len(vaults_df)} vaults\")\n",
    "print(vaults_df.head())"
   ]
  },
  {
   "cell_type": "code",
   "execution_count": null,
   "id": "c496683b",
   "metadata": {},
   "outputs": [],
   "source": []
  }
 ],
 "metadata": {
  "kernelspec": {
   "display_name": "vaults",
   "language": "python",
   "name": "python3"
  },
  "language_info": {
   "codemirror_mode": {
    "name": "ipython",
    "version": 3
   },
   "file_extension": ".py",
   "mimetype": "text/x-python",
   "name": "python",
   "nbconvert_exporter": "python",
   "pygments_lexer": "ipython3",
   "version": "3.10.17"
  }
 },
 "nbformat": 4,
 "nbformat_minor": 5
}
